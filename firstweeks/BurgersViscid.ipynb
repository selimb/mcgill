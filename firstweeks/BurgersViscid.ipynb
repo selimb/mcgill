{
 "cells": [
  {
   "cell_type": "markdown",
   "metadata": {},
   "source": [
    "# Burger's Inviscid/Non-Linear Advection\n",
    "\n",
    "$$\n",
    "\\frac{\\partial u}{\\partial t} + u\\frac{\\partial u}{\\partial x} = \\mu\\frac{\\partial^2 u}{\\partial x^2}\n",
    "$$\n",
    "\n",
    "with \n",
    "$$\n",
    "u(x, 0) = \\begin{cases}\n",
    "    1 & x < \\pi/2\\\\\n",
    "    sin(x) & \\pi/2 \\le x \\le 3\\pi/2\\\\\n",
    "    -1 & x > 3\\pi/2\n",
    "\\end{cases}\n",
    "$$"
   ]
  },
  {
   "cell_type": "code",
   "execution_count": 2,
   "metadata": {
    "collapsed": true
   },
   "outputs": [],
   "source": [
    "import numpy as np\n",
    "import matplotlib.pyplot as plt\n",
    "%matplotlib inline"
   ]
  },
  {
   "cell_type": "code",
   "execution_count": 3,
   "metadata": {
    "collapsed": true
   },
   "outputs": [],
   "source": [
    "# Define the initial signal that is being advected\n",
    "def signal(x):\n",
    "    u = np.zeros_like(x)\n",
    "    lower = x < np.pi/2\n",
    "    upper = x > 3*np.pi/2\n",
    "    inside = np.logical_not(np.logical_or(lower, upper))\n",
    "    u[lower] = 1\n",
    "    u[upper] = -1\n",
    "    u[inside] = np.sin(x[inside])\n",
    "    return u"
   ]
  },
  {
   "cell_type": "code",
   "execution_count": 4,
   "metadata": {
    "collapsed": true
   },
   "outputs": [],
   "source": [
    "def plot_opts(ax, max_x):\n",
    "    ticks = np.arange(0, max_x + np.pi/2, np.pi/2)\n",
    "    make_label = lambda p: '$%.1f\\pi$' % (p/np.pi)\n",
    "    labels = list(map(make_label, ticks))\n",
    "    ax.set_xticks(ticks)\n",
    "    ax.set_xticklabels(labels)\n",
    "    ax.grid()"
   ]
  },
  {
   "cell_type": "code",
   "execution_count": 6,
   "metadata": {
    "collapsed": false
   },
   "outputs": [
    {
     "data": {
      "image/png": "[encoded data removed]",
      "text/plain": [
       "<matplotlib.figure.Figure at 0x7fe925b46f50>"
      ]
     },
     "metadata": {},
     "output_type": "display_data"
    }
   ],
   "source": [
    "# Making sure our signal function is correct. \n",
    "fig, ax = plt.subplots(figsize=(15, 10))\n",
    "x0 = np.linspace(0, 2*np.pi, 500)\n",
    "u0 = signal(x0)\n",
    "ax.plot(x0, u0)\n",
    "ax.set_ylim(-1.5, 1.5)\n",
    "plot_opts(ax, max(x0))\n",
    "plt.show()"
   ]
  },
  {
   "cell_type": "code",
   "execution_count": 7,
   "metadata": {
    "collapsed": true
   },
   "outputs": [],
   "source": [
    "# Helper functions\n",
    "def flux(u):\n",
    "    return 0.5*u**2\n",
    "def max_speed(u):\n",
    "    return np.max(np.abs(u))\n",
    "def calc_dt(u, cfl, dx):\n",
    "    \"\"\"Calculate delta t from CFL.\"\"\"\n",
    "    return cfl*dx/max_speed(u)"
   ]
  },
  {
   "cell_type": "code",
   "execution_count": 52,
   "metadata": {
    "collapsed": true
   },
   "outputs": [],
   "source": [
    "# Constant\n",
    "DX = 0.1\n",
    "GRID_LENGTH = np.pi*2\n",
    "MU = 0.01"
   ]
  },
  {
   "cell_type": "code",
   "execution_count": 53,
   "metadata": {
    "collapsed": true
   },
   "outputs": [],
   "source": [
    "def solve(cfl, dx, tf, scheme):\n",
    "    # 2 ghost cells on each side\n",
    "    ghost = 2\n",
    "    x = np.arange(0 - ghost*dx, GRID_LENGTH + dx + ghost*dx, dx)\n",
    "    start = ghost\n",
    "    end = len(x) - ghost\n",
    "    u = signal(x)\n",
    "    cnt = 0\n",
    "    t = 0\n",
    "    while t < tf:\n",
    "        dt = min(calc_dt(u, cfl, dx), tf - t)\n",
    "        t += dt\n",
    "        u = scheme(u, dt, dx)\n",
    "        cnt += 1\n",
    "        if cnt >= 1000:\n",
    "            print(\"max number of iterations reached.\")\n",
    "            print(\"t = %.2f\" % t)\n",
    "            break\n",
    "    else: # Print the last time step\n",
    "        print(\"Last time step: %.3f\" % dt)\n",
    "        lastcfl = max_speed(u)*dt/dx\n",
    "        print(\"Last CFL: %.2f\" % lastcfl)\n",
    "        print(\"Number of iterations: %i\" % cnt)\n",
    "    \n",
    "    return x, u"
   ]
  },
  {
   "cell_type": "code",
   "execution_count": 54,
   "metadata": {
    "collapsed": true
   },
   "outputs": [],
   "source": [
    "def mccormack(u, dt, dx):\n",
    "    l = len(u)\n",
    "    r = MU*dt/(dx**2)\n",
    "    # Predictor\n",
    "    ubar = u.copy()\n",
    "    for j in range(1, l - 1):\n",
    "        df = flux(u[j+1]) - flux(u[j])\n",
    "        rterm = u[j+1] - 2*u[j] + u[j-1]\n",
    "        ubar[j] = u[j] - (dt/dx)*df + r*rterm\n",
    "    # Corrector\n",
    "    u2 = u.copy()\n",
    "    for j in range(2, l - 2):\n",
    "        df = flux(ubar[j]) - flux(ubar[j-1])\n",
    "        rterm = ubar[j+1] - 2*ubar[j] + ubar[j-1]\n",
    "        u2[j] = 0.5*(u[j] + ubar[j+1] - (dt/dx)*df + r*rterm)\n",
    "    print(dt <= dx**2/(max_speed(u)*dx + 2*MU))\n",
    "    return u2"
   ]
  },
  {
   "cell_type": "code",
   "execution_count": 58,
   "metadata": {
    "collapsed": true
   },
   "outputs": [],
   "source": [
    "def roe(u, dt, dx):\n",
    "    l = len(u)\n",
    "    r = MU*dt/(dx**2)\n",
    "    un = u.copy()\n",
    "    for j in range(1, l - 1):\n",
    "        rterm = u[j+1] - 2*u[j] + u[j-1]\n",
    "        un[j] = u[j] - 0.25*(dt/dx)*(\n",
    "            u[j+1]**2 - u[j-1]**2\n",
    "            - np.abs(u[j] + u[j+1])*(u[j+1] - u[j])\n",
    "            + np.abs(u[j] + u[j-1])*(u[j] - u[j-1])\n",
    "        ) + r*rterm\n",
    "    return un"
   ]
  },
  {
   "cell_type": "code",
   "execution_count": 59,
   "metadata": {
    "collapsed": false
   },
   "outputs": [
    {
     "name": "stdout",
     "output_type": "stream",
     "text": [
      "True\n",
      "True\n",
      "True\n",
      "True\n",
      "True\n",
      "True\n",
      "True\n",
      "True\n",
      "True\n",
      "True\n",
      "True\n",
      "True\n",
      "True\n",
      "True\n",
      "True\n",
      "True\n",
      "True\n",
      "True\n",
      "True\n",
      "True\n",
      "True\n",
      "True\n",
      "True\n",
      "True\n",
      "True\n",
      "True\n",
      "True\n",
      "True\n",
      "True\n",
      "True\n",
      "True\n",
      "True\n",
      "True\n",
      "True\n",
      "True\n",
      "True\n",
      "True\n",
      "True\n",
      "True\n",
      "True\n",
      "True\n",
      "True\n",
      "True\n",
      "True\n",
      "Last time step: 0.029\n",
      "Last CFL: 0.32\n",
      "Number of iterations: 44\n",
      "Last time step: 0.050\n",
      "Last CFL: 0.50\n",
      "Number of iterations: 40\n"
     ]
    }
   ],
   "source": [
    "cfl = 0.5\n",
    "dx = 0.1\n",
    "tf = 2\n",
    "# x, u_lw = solve(cfl, dx, tf, lw)\n",
    "x, u_mc = solve(cfl, dx, tf, mccormack)\n",
    "_, u_r = solve(cfl, dx, tf, roe)"
   ]
  },
  {
   "cell_type": "code",
   "execution_count": 60,
   "metadata": {
    "collapsed": false
   },
   "outputs": [
    {
     "data": {
      "image/png": "[encoded data removed]",
      "text/plain": [
       "<matplotlib.figure.Figure at 0x7fe9250b4c90>"
      ]
     },
     "metadata": {},
     "output_type": "display_data"
    }
   ],
   "source": [
    "fig, ax = plt.subplots(figsize=(15, 8))\n",
    "# ax.plot(x, u_lw, 'b.', label='Lax-Wendroff')\n",
    "ax.plot(x, u_mc, 'g', label='MacCormack')\n",
    "ax.plot(x, u_r, 'm', label='Roe')\n",
    "ax.set_ylim(-1.5, 1.5)\n",
    "plot_opts(ax, max(x0))\n",
    "ax.plot(x, signal(x), 'k--', label='Initial')\n",
    "ax.set_title('t = %.1f' % tf)\n",
    "ax.legend(fancybox=True, loc='best')\n",
    "ax.set_xlabel('$x$')\n",
    "ax.set_ylabel('$u$')\n",
    "plt.show()\n",
    "fig.savefig('burgers_inviscid.pdf')"
   ]
  },
  {
   "cell_type": "code",
   "execution_count": null,
   "metadata": {
    "collapsed": true
   },
   "outputs": [],
   "source": []
  }
 ],
 "metadata": {
  "kernelspec": {
   "display_name": "Python 2",
   "language": "python",
   "name": "python2"
  },
  "language_info": {
   "codemirror_mode": {
    "name": "ipython",
    "version": 2
   },
   "file_extension": ".py",
   "mimetype": "text/x-python",
   "name": "python",
   "nbconvert_exporter": "python",
   "pygments_lexer": "ipython2",
   "version": "2.7.10"
  }
 },
 "nbformat": 4,
 "nbformat_minor": 0
}
