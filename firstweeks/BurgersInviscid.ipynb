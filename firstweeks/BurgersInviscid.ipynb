{
 "cells": [
  {
   "cell_type": "markdown",
   "metadata": {},
   "source": [
    "# Burger's Inviscid/Non-Linear Advection\n",
    "\n",
    "$$\n",
    "\\frac{\\partial u}{\\partial t} + u\\frac{\\partial u}{\\partial x} = 0\n",
    "$$\n",
    "\n",
    "with \n",
    "$$\n",
    "u(x, 0) = \\begin{cases}\n",
    "    1 & x < \\pi/2\\\\\n",
    "    sin(x) & \\pi/2 \\le x \\le 3\\pi/2\\\\\n",
    "    -1 & x > 3\\pi/2\n",
    "\\end{cases}\n",
    "$$"
   ]
  },
  {
   "cell_type": "code",
   "execution_count": 1,
   "metadata": {
    "collapsed": true
   },
   "outputs": [],
   "source": [
    "import numpy as np\n",
    "import matplotlib.pyplot as plt\n",
    "%matplotlib inline"
   ]
  },
  {
   "cell_type": "code",
   "execution_count": 2,
   "metadata": {
    "collapsed": true
   },
   "outputs": [],
   "source": [
    "TMAX = 10\n",
    "GRID_LENGTH = 2*np.pi*4"
   ]
  },
  {
   "cell_type": "code",
   "execution_count": 3,
   "metadata": {
    "collapsed": true
   },
   "outputs": [],
   "source": [
    "# Define the initial signal that is being advected\n",
    "def signal(x):\n",
    "    u = np.zeros_like(x)\n",
    "    lower = x < np.pi/2\n",
    "    upper = x > 3*np.pi/2\n",
    "    inside = np.logical_not(np.logical_or(lower, upper))\n",
    "    u[lower] = 1\n",
    "    u[upper] = -1\n",
    "    u[inside] = np.sin(x[inside])\n",
    "    return u\n",
    "def signal2(x):\n",
    "    u = np.zeros_like(x)\n",
    "    lower = x < np.pi/2\n",
    "    upper = x > 3*np.pi/2\n",
    "    inside = np.logical_not(np.logical_or(lower, upper))\n",
    "    u[lower] = 0\n",
    "    u[upper] = 0\n",
    "    u[inside] = -np.cos(x[inside])\n",
    "    return u"
   ]
  },
  {
   "cell_type": "code",
   "execution_count": 26,
   "metadata": {
    "collapsed": true
   },
   "outputs": [],
   "source": [
    "def plot_opts(ax, max_x):\n",
    "    ticks = np.arange(0, max_x + np.pi/2, np.pi/2)\n",
    "    make_label = lambda p: '$%.1f\\pi$' % (p/np.pi)\n",
    "    labels = list(map(make_label, ticks))\n",
    "    ax.set_xticks(ticks)\n",
    "    ax.set_xticklabels(labels)\n",
    "    ax.grid()"
   ]
  },
  {
   "cell_type": "code",
   "execution_count": 27,
   "metadata": {
    "collapsed": false
   },
   "outputs": [
    {
     "data": {
      "image/png": "[encoded data removed]",
      "text/plain": [
       "<matplotlib.figure.Figure at 0x7fd011e2ce10>"
      ]
     },
     "metadata": {},
     "output_type": "display_data"
    }
   ],
   "source": [
    "# Making sure our signal function is correct. \n",
    "fig, ax = plt.subplots(figsize=(15, 10))\n",
    "x0 = np.linspace(0, GRID_LENGTH, 500)\n",
    "u0 = signal(x0)\n",
    "ax.plot(x0, u0)\n",
    "ax.set_ylim(-1.5, 1.5)\n",
    "plot_opts(ax, max(x0))\n",
    "plt.show()"
   ]
  },
  {
   "cell_type": "markdown",
   "metadata": {},
   "source": [
    "The schemes are basically the same as for linear advection except we replace the constant $A$ with $u_i^n$"
   ]
  },
  {
   "cell_type": "code",
   "execution_count": 5,
   "metadata": {
    "collapsed": true
   },
   "outputs": [],
   "source": [
    "# Initial conditions\n",
    "dx = 0.1\n",
    "x = np.arange(0, GRID_LENGTH + dx, dx, dtype=float)\n",
    "u0 = signal(x0)"
   ]
  },
  {
   "cell_type": "markdown",
   "metadata": {},
   "source": [
    "## Upwind\n",
    "Forward difference in time and backward difference in space:\n",
    "$$\n",
    "u_j^{n+1} = u_j^n - u_j^n\\frac{\\Delta t}{\\Delta x}(u_j^n - u_{j-1}^n)\n",
    "$$"
   ]
  },
  {
   "cell_type": "code",
   "execution_count": 6,
   "metadata": {
    "collapsed": true
   },
   "outputs": [],
   "source": [
    "def upwind(dt, dx):\n",
    "    x = np.arange(0, GRID_LENGTH + dx, dx)\n",
    "    tsteps = int(TMAX/dt)\n",
    "    u = np.zeros((tsteps, len(x)))\n",
    "    u[0] = signal(x)\n",
    "    u[:, 0] = u[0, 0]\n",
    "    u[:, -1] = u[0, -1]\n",
    "    t = dt\n",
    "    for n in range(tsteps - 1):\n",
    "        t += dt\n",
    "        for j in range(1, len(x) - 1):\n",
    "            u[n + 1, j] = u[n, j] - u[n, j]*(dt/dx)*(u[n,j] - u[n, j-1])\n",
    "    return x, u"
   ]
  },
  {
   "cell_type": "code",
   "execution_count": 7,
   "metadata": {
    "collapsed": false
   },
   "outputs": [
    {
     "ename": "NameError",
     "evalue": "name 'dt' is not defined",
     "output_type": "error",
     "traceback": [
      "\u001b[1;31m---------------------------------------------------------------------------\u001b[0m",
      "\u001b[1;31mNameError\u001b[0m                                 Traceback (most recent call last)",
      "\u001b[1;32m<ipython-input-7-a7908045767a>\u001b[0m in \u001b[0;36m<module>\u001b[1;34m()\u001b[0m\n\u001b[1;32m----> 1\u001b[1;33m \u001b[0mx\u001b[0m\u001b[1;33m,\u001b[0m \u001b[0mu\u001b[0m \u001b[1;33m=\u001b[0m \u001b[0mupwind\u001b[0m\u001b[1;33m(\u001b[0m\u001b[0mdt\u001b[0m\u001b[1;33m,\u001b[0m \u001b[0mdx\u001b[0m\u001b[1;33m)\u001b[0m\u001b[1;33m\u001b[0m\u001b[0m\n\u001b[0m",
      "\u001b[1;31mNameError\u001b[0m: name 'dt' is not defined"
     ]
    }
   ],
   "source": [
    "x, u = upwind(dt, dx)"
   ]
  },
  {
   "cell_type": "code",
   "execution_count": 8,
   "metadata": {
    "collapsed": false
   },
   "outputs": [
    {
     "ename": "NameError",
     "evalue": "name 'u' is not defined",
     "output_type": "error",
     "traceback": [
      "\u001b[1;31m---------------------------------------------------------------------------\u001b[0m",
      "\u001b[1;31mNameError\u001b[0m                                 Traceback (most recent call last)",
      "\u001b[1;32m<ipython-input-8-71ad887417bf>\u001b[0m in \u001b[0;36m<module>\u001b[1;34m()\u001b[0m\n\u001b[0;32m      1\u001b[0m \u001b[0mn\u001b[0m \u001b[1;33m=\u001b[0m \u001b[1;36m4\u001b[0m\u001b[1;33m\u001b[0m\u001b[0m\n\u001b[1;32m----> 2\u001b[1;33m \u001b[0mplt\u001b[0m\u001b[1;33m.\u001b[0m\u001b[0mplot\u001b[0m\u001b[1;33m(\u001b[0m\u001b[0mx\u001b[0m\u001b[1;33m,\u001b[0m \u001b[0mu\u001b[0m\u001b[1;33m[\u001b[0m\u001b[0mn\u001b[0m\u001b[1;33m]\u001b[0m\u001b[1;33m)\u001b[0m\u001b[1;33m\u001b[0m\u001b[0m\n\u001b[0m\u001b[0;32m      3\u001b[0m \u001b[0mplt\u001b[0m\u001b[1;33m.\u001b[0m\u001b[0mplot\u001b[0m\u001b[1;33m(\u001b[0m\u001b[0mx0\u001b[0m\u001b[1;33m,\u001b[0m \u001b[0mu0\u001b[0m\u001b[1;33m,\u001b[0m \u001b[1;34m'k--'\u001b[0m\u001b[1;33m)\u001b[0m\u001b[1;33m\u001b[0m\u001b[0m\n\u001b[0;32m      4\u001b[0m \u001b[0mplt\u001b[0m\u001b[1;33m.\u001b[0m\u001b[0mylim\u001b[0m\u001b[1;33m(\u001b[0m\u001b[0mtop\u001b[0m\u001b[1;33m=\u001b[0m\u001b[1;36m1.5\u001b[0m\u001b[1;33m)\u001b[0m\u001b[1;33m\u001b[0m\u001b[0m\n\u001b[0;32m      5\u001b[0m \u001b[0mplt\u001b[0m\u001b[1;33m.\u001b[0m\u001b[0mtitle\u001b[0m\u001b[1;33m(\u001b[0m\u001b[1;34m't = %.2f'\u001b[0m \u001b[1;33m%\u001b[0m \u001b[1;33m(\u001b[0m\u001b[0mn\u001b[0m\u001b[1;33m*\u001b[0m\u001b[0mdt\u001b[0m\u001b[1;33m)\u001b[0m\u001b[1;33m)\u001b[0m\u001b[1;33m\u001b[0m\u001b[0m\n",
      "\u001b[1;31mNameError\u001b[0m: name 'u' is not defined"
     ]
    }
   ],
   "source": [
    "n = 4\n",
    "plt.plot(x, u[n])\n",
    "plt.plot(x0, u0, 'k--')\n",
    "plt.ylim(top=1.5)\n",
    "plt.title('t = %.2f' % (n*dt))\n",
    "plt.show()"
   ]
  },
  {
   "cell_type": "markdown",
   "metadata": {},
   "source": [
    "A pure backward difference in space is wrong in this case where we have negative values of $u$: the backward difference \"forces\" the wave to propagate the wrong way? "
   ]
  },
  {
   "cell_type": "markdown",
   "metadata": {},
   "source": [
    "## FTCS\n",
    "Forward Time, Centered Space\n",
    "$$\n",
    "u_j^{n+1} = u_j^n - u_j^n\\frac{\\Delta t}{\\Delta x}\\frac{u_{j+1}^n - u_{j-1}^n}{2}\n",
    "$$"
   ]
  },
  {
   "cell_type": "code",
   "execution_count": 9,
   "metadata": {
    "collapsed": true
   },
   "outputs": [],
   "source": [
    "def ftcs(dt, dx):\n",
    "    x = np.arange(0, GRID_LENGTH + dx, dx)\n",
    "    tsteps = int(TMAX/dt)\n",
    "    u = np.zeros((tsteps, len(x)))\n",
    "    u[0] = signal(x)\n",
    "    u[:, 0] = u[0, 0]\n",
    "    u[:, -1] = u[0, -1]\n",
    "    t = dt\n",
    "    for n in range(tsteps - 1):\n",
    "        t += dt\n",
    "        for j in range(1, len(x) - 1):\n",
    "            u[n + 1, j] = u[n, j] - 0.5*u[n, j]*(dt/dx)*(u[n,j + 1] - u[n, j-1])\n",
    "    return x, u"
   ]
  },
  {
   "cell_type": "code",
   "execution_count": 10,
   "metadata": {
    "collapsed": false
   },
   "outputs": [
    {
     "name": "stderr",
     "output_type": "stream",
     "text": [
      "/usr/local/lib/python3.4/dist-packages/ipykernel/__main__.py:12: RuntimeWarning: overflow encountered in double_scalars\n",
      "/usr/local/lib/python3.4/dist-packages/ipykernel/__main__.py:12: RuntimeWarning: invalid value encountered in double_scalars\n"
     ]
    }
   ],
   "source": [
    "dt = 0.02\n",
    "dx = 0.2\n",
    "x, u = ftcs(dt, dx)"
   ]
  },
  {
   "cell_type": "code",
   "execution_count": 11,
   "metadata": {
    "collapsed": false
   },
   "outputs": [
    {
     "data": {
      "image/png": "[encoded data removed]",
      "text/plain": [
       "<matplotlib.figure.Figure at 0x7fd012021438>"
      ]
     },
     "metadata": {},
     "output_type": "display_data"
    }
   ],
   "source": [
    "n = 60\n",
    "plt.plot(x, u[n])\n",
    "plt.plot(x0, u0, 'k--')\n",
    "plt.title('t = %.2f' % (dt*n))\n",
    "plt.show()"
   ]
  },
  {
   "cell_type": "markdown",
   "metadata": {},
   "source": [
    "Also blows up eventually."
   ]
  },
  {
   "cell_type": "markdown",
   "metadata": {},
   "source": [
    "## CFL and $\\Delta t$\n",
    "In this case, we'll operate with a fixed dx and CFL and change dt accordingly to satisfy:\n",
    "\\begin{gather}\n",
    "CFL = \\nu = \\max(|u|)\\frac{\\Delta t}{\\Delta x}\\\\\n",
    "\\Rightarrow \\Delta t = \\frac{\\nu\\Delta x}{\\max(|u|)}\n",
    "\\end{gather}\n",
    "Of course, we'll have to pick a fixed $t_{max}$ in order to compare results. If the result of the $\\Delta t$ calculation above yields $t_{n+1} > t_{max}$, $\\Delta t$ will be set to $t_{max} - t_{n}$.\n",
    "\n",
    "More generally, the $\\Delta t$ calculation can be expressed as:\n",
    "$$\n",
    "\\Delta t = \\min\\left(\\frac{\\nu\\Delta x}{\\max(|u|)}, t_{max} - t_{n}\\right),\\quad t_n \\le t_{max}\n",
    "$$"
   ]
  },
  {
   "cell_type": "code",
   "execution_count": 12,
   "metadata": {
    "collapsed": true
   },
   "outputs": [],
   "source": [
    "# Helper functions\n",
    "def flux(u):\n",
    "    return 0.5*u**2\n",
    "def max_speed(u):\n",
    "    return np.max(np.abs(u))\n",
    "def calc_dt(u, cfl, dx):\n",
    "    \"\"\"Calculate delta t from CFL.\"\"\"\n",
    "    return cfl*dx/max_speed(u)"
   ]
  },
  {
   "cell_type": "code",
   "execution_count": 13,
   "metadata": {
    "collapsed": true
   },
   "outputs": [],
   "source": [
    "# Constant\n",
    "DX = 0.1\n",
    "GRID_LENGTH = np.pi*2"
   ]
  },
  {
   "cell_type": "code",
   "execution_count": 102,
   "metadata": {
    "collapsed": true
   },
   "outputs": [],
   "source": [
    "def solve(cfl, dx, tf, scheme):\n",
    "    # 2 ghost cells on each side\n",
    "    ghost = 2\n",
    "    x = np.arange(0 - ghost*dx, GRID_LENGTH + dx + ghost*dx, dx)\n",
    "    start = ghost\n",
    "    end = len(x) - ghost\n",
    "    u = signal(x)\n",
    "    cnt = 0\n",
    "    t = 0\n",
    "    while t < tf:\n",
    "        dt = min(calc_dt(u, cfl, dx), tf - t)\n",
    "        t += dt\n",
    "        u = scheme(u, dt, dx)\n",
    "        cnt += 1\n",
    "        if cnt >= 1000:\n",
    "            print(\"max number of iterations reached.\")\n",
    "            print(\"t = %.2f\" % t)\n",
    "            break\n",
    "    else: # Print the last time step\n",
    "        print(\"Last time step: %.3f\" % dt)\n",
    "        lastcfl = max_speed(u)*dt/dx\n",
    "        print(\"Last CFL: %.2f\" % lastcfl)\n",
    "        print(\"Number of iterations: %i\" % cnt)\n",
    "    \n",
    "    return x, u"
   ]
  },
  {
   "cell_type": "markdown",
   "metadata": {},
   "source": [
    "## Lax-Wendroff\n",
    "\\begin{align}\n",
    "u_j^{n+1/2} &= \\frac{1}{2}\\left[u^n_{j+1/2} - u^n_{j-1/2}\\right] - \\frac{dt}{dx}\\left[(F_{j+1/2}^n - F^n_{j-1/2})\\right]\\\\\n",
    "u_j^{n+1} &= u_j^n - \\frac{dt}{dx}\\left(F_{j+1/2}^{n+1/2} - F_{j-1/2}^{n+1/2}\\right)\n",
    "\\end{align}\n",
    "in this case, the flux $F$ can be expressed as:\n",
    "$$\n",
    "F = \\frac{u^2}{2}\n",
    "\\Rightarrow \\frac{\\partial F}{\\partial u} = u\n",
    "$$"
   ]
  },
  {
   "cell_type": "markdown",
   "metadata": {},
   "source": [
    "### Simplification\n",
    "Notice that \n",
    "$$\n",
    "u^n_{j+1/2} - u^n_{j-1/2} = \n",
    "\\left[\n",
    "    \\frac{u^n_{j+1} + u^n_j}{2}\n",
    "    - \\frac{u^n_{j} + u^n_{j-1}}{2}\n",
    "\\right] =\n",
    "\\frac{u_{j+1}^n - u_{j-1}^n}{2}\n",
    "$$\n",
    "Simarly\n",
    "$$\n",
    "F^n_{j+1/2} - F^n_{j-1/2} = \n",
    "\\frac{\\left(u^n_{j+1}\\right)^2 - \\left(u^n_{j-1}\\right)^2}{4}\n",
    "$$\n",
    "<b>Thus:</b>\n",
    "\\begin{align}\n",
    "u_j^{n+1/2} &= \\frac{1}{4}(u_{j+1}^n - u_{j-1}^n) - \\frac{\\Delta t}{4\\Delta x}\\left[(u_{j+1}^n)^2 - (u_{j-1}^n)^2\\right]\\\\\n",
    "u_j^{n+1} &= u_j^n - \\frac{\\Delta t}{4\\Delta x}\\left[(u_{j+1}^{n+1/2})^2 - (u_{j-1}^{n+1/2})^2\\right]\n",
    "\\end{align}"
   ]
  },
  {
   "cell_type": "code",
   "execution_count": 138,
   "metadata": {
    "collapsed": true
   },
   "outputs": [],
   "source": [
    "def lax_wendroff2(u, dt, dx):\n",
    "    l = len(u)\n",
    "    # Step 1\n",
    "    u1 = u.copy()\n",
    "    for j in range(1, l - 1):\n",
    "        u1[j] = 0.25*(u[j+1] - u[j-1]) - (dt/dx)*(\n",
    "            (u[j+1] + u[j])**2/4\n",
    "            - (u[j-1] + u[j])**2/4\n",
    "        )\n",
    "    # Step 2\n",
    "    u2 = u.copy()\n",
    "    for j in range(2, l - 2):\n",
    "        u2[j] = u[j] - (dt/dx)*(\n",
    "            (u1[j+1] + u1[j])**2/4\n",
    "            - (u1[j-1] + u1[j])**2/4\n",
    "        )\n",
    "    return u2"
   ]
  },
  {
   "cell_type": "code",
   "execution_count": 124,
   "metadata": {
    "collapsed": true
   },
   "outputs": [],
   "source": [
    "def lax_wendroff(u, dt, dx):\n",
    "    l = len(u)\n",
    "    # Step 1\n",
    "    f = flux(u)\n",
    "    u1 = u.copy()\n",
    "    for j in range(1, l - 1):\n",
    "        u1[j] = 0.25*(u[j+1] - u[j-1]) - 0.5*(dt/dx)*(f[j+1] - f[j-1])\n",
    "    f1 = flux(u1)\n",
    "    # Step 2\n",
    "    u2 = u.copy()\n",
    "    for j in range(2, l - 2):\n",
    "        u2[j] = u[j] - 0.5*(dt/dx)*(f1[j+1] - f1[j-1])\n",
    "    return u2"
   ]
  },
  {
   "cell_type": "code",
   "execution_count": 153,
   "metadata": {
    "collapsed": true
   },
   "outputs": [],
   "source": [
    "def lax_wendroff3(u, dt, dx):\n",
    "    l = len(u)\n",
    "    f = flux(u)\n",
    "    u2 = u.copy()\n",
    "    for j in range(1, l - 1):\n",
    "        up = 0.5*(u[j+1] + u[j]) - 0.5*(dt/dx)*(f[j+1] - f[j])\n",
    "        um = 0.5*(u[j] + u[j-1]) - 0.5*(dt/dx)*(f[j] - f[j-1])\n",
    "        u2[j] = u[j] - dt/dx*(flux(up) - flux(um))\n",
    "    return u2"
   ]
  },
  {
   "cell_type": "markdown",
   "metadata": {},
   "source": [
    "## MacCormack\n",
    "Substituting $u$ for $F$:\n",
    "\\begin{align}\n",
    "u_j^{\\overline{n+1}} &= u^n_j - \\frac{\\Delta t}{2\\Delta x}\\left[(u_{j+1}^n)^2 - (u_j^n)^2\\right]\\\\\n",
    "u_j^{n+1} &= \\frac{1}{2}\\left[\n",
    "    u_j^n + u_j^{\\overline{n+1}}\n",
    "    - \\frac{\\Delta t}{2\\Delta x} \\left(\n",
    "        \\left(u_j^{\\overline{n+1}}\\right)^2 - \\left(u_{j-1}^{\\overline{n+1}}\\right)^2\n",
    "    \\right)\n",
    "\\right]\n",
    "\\end{align}"
   ]
  },
  {
   "cell_type": "code",
   "execution_count": 154,
   "metadata": {
    "collapsed": false
   },
   "outputs": [],
   "source": [
    "def mccormack(u, dt, dx):\n",
    "    l = len(u)\n",
    "    # Predictor\n",
    "    ubar = u.copy()\n",
    "    for j in range(1, l - 1):\n",
    "        ubar[j] = u[j] - (dt/dx)*(flux(u[j+1]) - flux(u[j]))\n",
    "    # Corrector\n",
    "    u2 = u.copy()\n",
    "    for j in range(2, l - 2):\n",
    "        u2[j] = 0.5*(u[j] + ubar[j] - (dt/dx)*(flux(ubar[j]) - flux(ubar[j-1])))\n",
    "#     raise\n",
    "    return u2\n",
    "def mccormack2(u, dt, dx):\n",
    "    f = flux(u)\n",
    "    ubar = u.copy()\n",
    "    u2 = u.copy()\n",
    "    ubar[:-1] = u[:-1] - dt/dx*(f[1:]-f[:-1])\n",
    "    fbar = flux(ubar)\n",
    "    u2[1:] = 0.5*(u[1:]+ubar[1:] - dt/dx*(fbar[1:] - fbar[:-1]))\n",
    "    return u2"
   ]
  },
  {
   "cell_type": "code",
   "execution_count": 155,
   "metadata": {
    "collapsed": true
   },
   "outputs": [],
   "source": [
    "def roe(u, dt, dx):\n",
    "    l = len(u)\n",
    "    u2 = u.copy()\n",
    "    for j in range(1, l - 1):\n",
    "        u2[j] = u[j] - 0.25*(dt/dx)*(\n",
    "            u[j+1]**2 - u[j-1]**2\n",
    "            - np.abs(u[j] + u[j+1])*(u[j+1] - u[j])\n",
    "            + np.abs(u[j] + u[j-1])*(u[j] - u[j-1])\n",
    "        )\n",
    "    return u2"
   ]
  },
  {
   "cell_type": "code",
   "execution_count": 156,
   "metadata": {
    "collapsed": false
   },
   "outputs": [
    {
     "name": "stdout",
     "output_type": "stream",
     "text": [
      "Automatic pdb calling has been turned ON\n"
     ]
    }
   ],
   "source": [
    "%pdb"
   ]
  },
  {
   "cell_type": "code",
   "execution_count": 159,
   "metadata": {
    "collapsed": false
   },
   "outputs": [
    {
     "name": "stdout",
     "output_type": "stream",
     "text": [
      "Last time step: 0.080\n",
      "Last CFL: 0.80\n",
      "Number of iterations: 125\n",
      "Last time step: 0.047\n",
      "Last CFL: 0.54\n",
      "Number of iterations: 142\n",
      "Last time step: 0.080\n",
      "Last CFL: 0.80\n",
      "Number of iterations: 125\n"
     ]
    }
   ],
   "source": [
    "cfl = 0.8\n",
    "dx = 0.1\n",
    "tf = 10\n",
    "x, u_lw = solve(cfl, dx, tf, lax_wendroff2)\n",
    "x2, u_mc = solve(cfl, dx, tf, mccormack2)\n",
    "x3, u_r = solve(cfl, dx, tf, roe)\n",
    "assert (x == x2).all()"
   ]
  },
  {
   "cell_type": "code",
   "execution_count": 160,
   "metadata": {
    "collapsed": false
   },
   "outputs": [
    {
     "data": {
      "image/png": "[encoded data removed]",
      "text/plain": [
       "<matplotlib.figure.Figure at 0x7fd0110e1208>"
      ]
     },
     "metadata": {},
     "output_type": "display_data"
    }
   ],
   "source": [
    "fig, ax = plt.subplots(figsize=(15, 8))\n",
    "ax.plot(x, u_lw, 'b.', label='Lax-Wendroff')\n",
    "ax.plot(x, u_mc, 'g.', label='MacCormack')\n",
    "ax.plot(x, u_r, 'm.', label='Roe')\n",
    "ax.set_ylim(-1.5, 1.5)\n",
    "plot_opts(ax, max(x0))\n",
    "ax.plot(x, signal(x), 'k--', label='Initial')\n",
    "ax.set_title('t = %.1f' % tf)\n",
    "ax.legend(fancybox=True, loc='best')\n",
    "ax.set_xlabel('$x$')\n",
    "ax.set_ylabel('$u$')\n",
    "plt.show()\n",
    "fig.savefig('burgers_inviscid.pdf')"
   ]
  },
  {
   "cell_type": "code",
   "execution_count": 161,
   "metadata": {
    "collapsed": true
   },
   "outputs": [],
   "source": [
    "!xdg-open ."
   ]
  },
  {
   "cell_type": "code",
   "execution_count": null,
   "metadata": {
    "collapsed": true
   },
   "outputs": [],
   "source": []
  }
 ],
 "metadata": {
  "kernelspec": {
   "display_name": "Python 3",
   "language": "python",
   "name": "python3"
  },
  "language_info": {
   "codemirror_mode": {
    "name": "ipython",
    "version": 3
   },
   "file_extension": ".py",
   "mimetype": "text/x-python",
   "name": "python",
   "nbconvert_exporter": "python",
   "pygments_lexer": "ipython3",
   "version": "3.4.0"
  }
 },
 "nbformat": 4,
 "nbformat_minor": 0
}
