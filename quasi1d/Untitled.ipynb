{
 "cells": [
  {
   "cell_type": "code",
   "execution_count": 121,
   "metadata": {
    "collapsed": false
   },
   "outputs": [],
   "source": [
    "modules = []\n",
    "f = open('qod.f')\n",
    "for i in range(12):\n",
    "    f.readline()\n",
    "cnt = 0\n",
    "s = io.StringIO()\n",
    "for line in f.readlines():\n",
    "    if '========' in line:\n",
    "        cnt += 1\n",
    "        if cnt == 3:\n",
    "            s.seek(0)\n",
    "            modules.append(s.readlines())\n",
    "            cnt = 1\n",
    "            s = io.StringIO()\n",
    "    s.write(line)\n",
    "s.seek(0)\n",
    "modules.append(s.readlines())"
   ]
  },
  {
   "cell_type": "code",
   "execution_count": 122,
   "metadata": {
    "collapsed": true
   },
   "outputs": [],
   "source": [
    "import re\n",
    "r = re.compile(r'.*module (\\w*)')"
   ]
  },
  {
   "cell_type": "code",
   "execution_count": 128,
   "metadata": {
    "collapsed": false
   },
   "outputs": [
    {
     "name": "stdout",
     "output_type": "stream",
     "text": [
      "Writing types\n",
      "Writing setup\n",
      "Writing utils\n",
      "Writing common_calcs\n",
      "Writing flx_schemes\n",
      "Writing bc\n",
      "Writing timestepping\n",
      "7\n"
     ]
    }
   ],
   "source": [
    "for i, module in enumerate(modules):\n",
    "    module_line = module[3]\n",
    "    try:\n",
    "        module_name = r.match(module_line).groups()[0]\n",
    "    except AttributeError:\n",
    "        print(i)\n",
    "        continue\n",
    "    with open(module_name + '.f', 'w') as f:\n",
    "        print('Writing %s' % module_name)\n",
    "        for line in module:\n",
    "            f.write(line)"
   ]
  },
  {
   "cell_type": "code",
   "execution_count": 129,
   "metadata": {
    "collapsed": false
   },
   "outputs": [],
   "source": [
    "open('main.f', 'w').writelines(modules[7])"
   ]
  },
  {
   "cell_type": "code",
   "execution_count": 84,
   "metadata": {
    "collapsed": false
   },
   "outputs": [],
   "source": [
    "l = modules[0][3]\n",
    "m = r.match(l).groups()[0]"
   ]
  },
  {
   "cell_type": "code",
   "execution_count": 89,
   "metadata": {
    "collapsed": false
   },
   "outputs": [],
   "source": [
    "f = open('caca', 'w')\n",
    "f.writelines(modules[0])\n",
    "f.close()"
   ]
  },
  {
   "cell_type": "code",
   "execution_count": 86,
   "metadata": {
    "collapsed": true
   },
   "outputs": [],
   "source": []
  },
  {
   "cell_type": "code",
   "execution_count": 88,
   "metadata": {
    "collapsed": true
   },
   "outputs": [],
   "source": [
    "f = open('caca', 'r').read()"
   ]
  }
 ],
 "metadata": {
  "kernelspec": {
   "display_name": "Python 3",
   "language": "python",
   "name": "python3"
  },
  "language_info": {
   "codemirror_mode": {
    "name": "ipython",
    "version": 3
   },
   "file_extension": ".py",
   "mimetype": "text/x-python",
   "name": "python",
   "nbconvert_exporter": "python",
   "pygments_lexer": "ipython3",
   "version": "3.5.0"
  }
 },
 "nbformat": 4,
 "nbformat_minor": 0
}
